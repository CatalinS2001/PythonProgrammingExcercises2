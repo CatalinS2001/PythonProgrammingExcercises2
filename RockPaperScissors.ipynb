{
 "cells": [
  {
   "cell_type": "code",
   "execution_count": null,
   "metadata": {},
   "outputs": [
    {
     "name": "stdout",
     "output_type": "stream",
     "text": [
      "Rock, paper or scissors?paper\n",
      "The computer picked: scissors\n",
      "Unlucky :(\n"
     ]
    }
   ],
   "source": [
    "import random\n",
    "score = 0\n",
    "computerScore = 0\n",
    "turnNumber = 0\n",
    "while turnNumber <= 2:\n",
    "  rockPaperScissor = [\"rock\", \"paper\", \"scissors\"]\n",
    "  randomChoice = random.choice(rockPaperScissor)\n",
    "  userChoice = input(\"Rock, paper or scissors?\").lower()\n",
    "  while not userChoice:\n",
    "    print(\"please input something!\")\n",
    "    userChoice = input(\"Rock, paper or scissors?\").lower()\n",
    "  while \"rock\" not in userChoice and \"scissors\" not in userChoice and \"paper\" not in userChoice:\n",
    "    userChoice = input(\"That's an invalid input, please choose again! \\n Remember, only rock, paper and scissors on their own!\")\n",
    "  if randomChoice == \"rock\" and userChoice == \"paper\":\n",
    "    print(\"The computer picked:\", randomChoice)\n",
    "    print(\"You win this round :)\")\n",
    "    score = (score + 1)\n",
    "    turnNumber = (turnNumber + 1)\n",
    "  elif randomChoice == \"paper\" and userChoice == \"scissors\":\n",
    "    print(\"The computer picked\", randomChoice)\n",
    "    print(\"You win this round :)\")\n",
    "    score = (score + 1)\n",
    "    turnNumber = (turnNumber + 1)\n",
    "  elif randomChoice == \"scissors\" and userChoice == \"rock\":\n",
    "    print(\"The computer picked:\", randomChoice)\n",
    "    print(\"You win this round :)\")\n",
    "    score = (score + 1)\n",
    "    turnNumber = (turnNumber + 1)\n",
    "  elif randomChoice == userChoice:\n",
    "    print(\"The computer picked:\", randomChoice)\n",
    "    print(\"It's a draw -_-\")\n",
    "    turnNumber = (turnNumber + 1)\n",
    "  else:\n",
    "    print(\"The computer picked:\", randomChoice)\n",
    "    print(\"Unlucky :(\")\n",
    "    computerScore = (computerScore + 1)\n",
    "    turnNumber = (turnNumber + 1)\n",
    "    \n",
    "print(\"This is your score:\", score)\n",
    "print(\"This is the score the computer:\", computerScore)\n",
    "if computerScore > score:\n",
    "  print(\"You lost :(\")\n",
    "elif computerScore < score:\n",
    "  print(\"You win :)\")\n",
    "else:\n",
    "  print(\"It's a draw -_-\")\n",
    "print(\"Thanks for playing!\")"
   ]
  }
 ],
 "metadata": {
  "kernelspec": {
   "display_name": "Python 3",
   "language": "python",
   "name": "python3"
  },
  "language_info": {
   "codemirror_mode": {
    "name": "ipython",
    "version": 3
   },
   "file_extension": ".py",
   "mimetype": "text/x-python",
   "name": "python",
   "nbconvert_exporter": "python",
   "pygments_lexer": "ipython3",
   "version": "3.5.2"
  },
  "widgets": {
   "application/vnd.jupyter.widget-state+json": {
    "state": {},
    "version_major": 2,
    "version_minor": 0
   }
  }
 },
 "nbformat": 4,
 "nbformat_minor": 2
}

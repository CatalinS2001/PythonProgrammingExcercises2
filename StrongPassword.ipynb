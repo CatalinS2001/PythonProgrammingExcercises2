{
 "cells": [
  {
   "cell_type": "code",
   "execution_count": null,
   "metadata": {},
   "outputs": [],
   "source": [
    "while True: \n",
    "  str1 = str(input(\"Enter your initial password:\")).lower()\n",
    "  str1 = (str1.replace(\"i\", \"1\"))\n",
    "  str1 = (str1.replace(\"s\", \"5\"))\n",
    "  x = (len(str1))\n",
    "  x = (str(x))\n",
    "  newStr = (str1 + x)\n",
    "  print(\"This is your new password:\", newStr)\n",
    "  \n",
    "  newPassword = input(\"Do you want to change your password?\").lower()\n",
    "  if newPassword == \"y\" or newPassword == \"yes\":\n",
    "    print(\"As you wish.\")\n",
    "  else:\n",
    "    print(\"Thank you for using this program!\")\n",
    "    break\n"
   ]
  },
  {
   "cell_type": "code",
   "execution_count": null,
   "metadata": {},
   "outputs": [],
   "source": []
  }
 ],
 "metadata": {
  "kernelspec": {
   "display_name": "Python 3",
   "language": "python",
   "name": "python3"
  },
  "language_info": {
   "codemirror_mode": {
    "name": "ipython",
    "version": 3
   },
   "file_extension": ".py",
   "mimetype": "text/x-python",
   "name": "python",
   "nbconvert_exporter": "python",
   "pygments_lexer": "ipython3",
   "version": "3.5.2"
  }
 },
 "nbformat": 4,
 "nbformat_minor": 2
}

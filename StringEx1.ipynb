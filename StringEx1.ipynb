{
 "cells": [
  {
   "cell_type": "markdown",
   "metadata": {},
   "source": [
    "## Strings Exercise 1"
   ]
  },
  {
   "cell_type": "code",
   "execution_count": 10,
   "metadata": {},
   "outputs": [],
   "source": [
    "#Create a variable with the datatype with the datatybe sting\n",
    "username = \"Fred\"\n",
    "word = \"This is a bunch of words\"\n",
    "question = \"What is the capital of Uganda?\"\n",
    "age = 16 #This is not a string"
   ]
  },
  {
   "cell_type": "code",
   "execution_count": 16,
   "metadata": {},
   "outputs": [
    {
     "name": "stdout",
     "output_type": "stream",
     "text": [
      "This is a bunch of words\n",
      "This is a bunch of wordsWhat is the capital of Uganda?\n",
      "Hello user Fred\n",
      "Hello userFred\n",
      "Hello user aged 16\n",
      "Hello user aged 16\n"
     ]
    }
   ],
   "source": [
    "#functions that I can use to output input and do other things with strings\n",
    "#Output\n",
    "print(word)\n",
    "print(word + question) #When you + strings you are CONCATENATING strings \n",
    "#printing hardcoded and variables\n",
    "print(\"Hello user\", username)\n",
    "print(\"Hello user\" + username)\n",
    "print(\"Hello user aged\", age)\n",
    "print(\"Hello user aged\", + age) #This should not work"
   ]
  },
  {
   "cell_type": "code",
   "execution_count": 18,
   "metadata": {},
   "outputs": [
    {
     "name": "stdout",
     "output_type": "stream",
     "text": [
      "Hello user of age 16\n"
     ]
    }
   ],
   "source": [
    "#convert an int into a string using a FUNCTION\n",
    "print(\"Hello user of age \"+ str(age))"
   ]
  },
  {
   "cell_type": "code",
   "execution_count": 22,
   "metadata": {},
   "outputs": [
    {
     "name": "stdout",
     "output_type": "stream",
     "text": [
      "What is your nameCatalin\n",
      "Catalin\n",
      "What is your age16\n",
      "16\n"
     ]
    }
   ],
   "source": [
    "userName = input(\"What is your name\")\n",
    "print(userName)\n",
    "age = int(input(\"What is your age\")) #If we want to use as a number\n",
    "print(age)"
   ]
  }
 ],
 "metadata": {
  "kernelspec": {
   "display_name": "Python 3",
   "language": "python",
   "name": "python3"
  },
  "language_info": {
   "codemirror_mode": {
    "name": "ipython",
    "version": 3
   },
   "file_extension": ".py",
   "mimetype": "text/x-python",
   "name": "python",
   "nbconvert_exporter": "python",
   "pygments_lexer": "ipython3",
   "version": "3.5.2"
  }
 },
 "nbformat": 4,
 "nbformat_minor": 2
}

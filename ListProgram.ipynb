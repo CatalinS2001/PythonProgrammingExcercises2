{
 "cells": [
  {
   "cell_type": "code",
   "execution_count": null,
   "metadata": {},
   "outputs": [
    {
     "name": "stdout",
     "output_type": "stream",
     "text": [
      "What would you like to say?cat\n",
      "You input: cat\n",
      "This is what it looks like as a list: ['c', 'a', 't']\n",
      "The list is this long: 3\n",
      "The number which you choose will corelate to a letter in the list\n",
      "Pick a number5\n",
      "Do you want to change your mind?no\n",
      "That's an invalid number \n",
      " Please pick another one2\n"
     ]
    }
   ],
   "source": [
    "import time\n",
    "while True:\n",
    "  lst=[]\n",
    "  sayList = input(\"What would you like to say?\")\n",
    "  while not sayList:\n",
    "    sayList = input(\"Please input something\")\n",
    "  for i in sayList:\n",
    "    lst.append(i)\n",
    "  time.sleep(1)\n",
    "  print(\"You input:\", sayList)\n",
    "  time.sleep(1)\n",
    "  print(\"This is what it looks like as a list:\", lst)\n",
    "  x = len(lst)\n",
    "  time.sleep(1)\n",
    "  print(\"The list is this long:\", x)\n",
    "  time.sleep(1)\n",
    "  print (\"The number which you choose will corelate to a letter in the list\")\n",
    "  time.sleep(1)\n",
    "  while True:  \n",
    "    try:\n",
    "      myListNumber = int(input(\"Pick a number\"))\n",
    "      break\n",
    "    except ValueError:\n",
    "        print(\"That is not an integer\")\n",
    "  time.sleep(1)\n",
    "  ask = input(\"Do you want to change your mind?\").lower()\n",
    "  while ask == \"yes\":\n",
    "    time.sleep(1)\n",
    "    myListNumber = int(input(\"Pick another number\"))\n",
    "    while True:  \n",
    "      try:\n",
    "        myListNumber = int(input(\"Pick a number\"))\n",
    "        break\n",
    "      except ValueError:\n",
    "        print(\"That is not an integer\")\n",
    "    time.sleep(1)\n",
    "    ask = input(\"Do you want to change your mind?\").lower()\n",
    "  while myListNumber > x:\n",
    "    time.sleep(1)\n",
    "    myListNumber = int(input(\"That's an invalid number \\n Please pick another one\"))\n",
    "    time.sleep(1)\n",
    "    ask = input(\"Do you want to change your mind?\").lower()\n",
    "    while ask == \"yes\":\n",
    "      time.sleep(1)\n",
    "      myListNumber = int(input(\"Pick another number\"))\n",
    "      while True:  \n",
    "        try:\n",
    "          myListNumber = int(input(\"Pick a number\"))\n",
    "          break\n",
    "        except ValueError:\n",
    "          print(\"That is not an integer\")\n",
    "      time.sleep(1)\n",
    "      ask = input(\"Do you want to change your mind?\").lower()\n",
    "  print(lst[myListNumber])\n",
    "  time.sleep(1)\n",
    "  q = input(\"Would you like to start again?\").lower()\n",
    "  if q == \"yes\" or q == \"y\":\n",
    "    time.sleep(1)\n",
    "    print(\"You will now start again.\")\n",
    "  else:\n",
    "    print(\"Ok, the program will now end\")\n",
    "    break\n",
    "\n",
    "\n"
   ]
  }
 ],
 "metadata": {
  "kernelspec": {
   "display_name": "Python 3",
   "language": "python",
   "name": "python3"
  },
  "language_info": {
   "codemirror_mode": {
    "name": "ipython",
    "version": 3
   },
   "file_extension": ".py",
   "mimetype": "text/x-python",
   "name": "python",
   "nbconvert_exporter": "python",
   "pygments_lexer": "ipython3",
   "version": "3.5.2"
  }
 },
 "nbformat": 4,
 "nbformat_minor": 2
}
